{
  "nbformat": 4,
  "nbformat_minor": 0,
  "metadata": {
    "colab": {
      "provenance": []
    },
    "kernelspec": {
      "name": "python3",
      "display_name": "Python 3"
    },
    "language_info": {
      "name": "python"
    }
  },
  "cells": [
    {
      "cell_type": "code",
      "source": [
        "!pip install qiskit\n",
        "!pip install qiskit_aer\n",
        "!pip install pylatexenc"
      ],
      "metadata": {
        "id": "Utl-r7XLft9e"
      },
      "execution_count": null,
      "outputs": []
    },
    {
      "cell_type": "code",
      "execution_count": null,
      "metadata": {
        "id": "0uqSE9mmfn8E"
      },
      "outputs": [],
      "source": [
        "# Quantum Teleportation (Coherent version) – Qiskit 2.x compatible\n",
        "# Works on modern qiskit-aer simulators\n",
        "\n",
        "from qiskit import QuantumCircuit, transpile\n",
        "from qiskit_aer import AerSimulator\n",
        "from qiskit.quantum_info import Statevector, partial_trace\n",
        "from qiskit.visualization import plot_bloch_multivector\n",
        "import numpy as np\n",
        "import matplotlib.pyplot as plt\n",
        "\n",
        "# 1️⃣ Build the teleportation circuit\n",
        "qc = QuantumCircuit(3)\n",
        "\n",
        "# Prepare arbitrary state |ψ⟩ on qubit 0\n",
        "theta, phi = 0.8, 0.3\n",
        "qc.ry(theta, 0)\n",
        "qc.rz(phi, 0)\n",
        "\n",
        "# Save initial state for comparison\n",
        "sv_initial = Statevector.from_instruction(qc)\n",
        "print(\"Initial state of qubit 0:\")\n",
        "display(plot_bloch_multivector(sv_initial))\n",
        "\n",
        "# Create Bell pair between qubits 1 and 2\n",
        "qc.h(1)\n",
        "qc.cx(1, 2)\n",
        "\n",
        "# Bell measurement part (but coherent)\n",
        "qc.cx(0, 1)\n",
        "qc.h(0)\n",
        "\n",
        "# Coherent corrections\n",
        "qc.cx(1, 2)\n",
        "qc.cz(0, 2)\n",
        "\n",
        "# Save final statevector explicitly (Qiskit 2.x requires this)\n",
        "qc.save_statevector()\n",
        "\n",
        "# 2️⃣ Simulate\n",
        "sim = AerSimulator()\n",
        "compiled = transpile(qc, sim)\n",
        "result = sim.run(compiled).result()\n",
        "\n",
        "# Retrieve the saved statevector\n",
        "sv_final = result.data(0)[\"statevector\"]\n",
        "sv_final = Statevector(sv_final)\n",
        "\n",
        "# 3️⃣ Compare: initial vs Bob’s (qubit 2) final state\n",
        "rho_bob = partial_trace(sv_final, [0, 1])\n",
        "rho_init = partial_trace(sv_initial, [1, 2])\n",
        "\n",
        "# Extract the dominant pure states (since both should be pure)\n",
        "eigvals_b, eigvecs_b = np.linalg.eigh(rho_bob.data)\n",
        "eigvals_i, eigvecs_i = np.linalg.eigh(rho_init.data)\n",
        "bob_state = eigvecs_b[:, np.argmax(eigvals_b)]\n",
        "init_state = eigvecs_i[:, np.argmax(eigvals_i)]\n",
        "\n",
        "# Compute fidelity\n",
        "fidelity = np.abs(np.vdot(init_state, bob_state)) ** 2\n",
        "print(f\"Fidelity between initial and teleported states: {fidelity:.6f}\")\n",
        "\n",
        "# 4️⃣ Visualize Bloch spheres (fixed)\n",
        "print(\"\\nBob’s final qubit (qubit 2) Bloch vector:\")\n",
        "\n",
        "# Convert rho_bob (DensityMatrix) → pure statevector (dominant eigenvector)\n",
        "eigvals_b, eigvecs_b = np.linalg.eigh(rho_bob.data)\n",
        "bob_state = eigvecs_b[:, np.argmax(eigvals_b)]  # dominant eigenvector\n",
        "bob_sv = Statevector(bob_state)\n",
        "\n",
        "display(plot_bloch_multivector(bob_sv))"
      ]
    }
  ]
}